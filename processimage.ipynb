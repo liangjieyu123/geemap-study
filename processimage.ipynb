{
 "cells": [
  {
   "cell_type": "markdown",
   "metadata": {},
   "source": [
    "利用已有产品随机分层抽样多进程生成256*256图片样本"
   ]
  },
  {
   "cell_type": "code",
   "execution_count": null,
   "metadata": {},
   "outputs": [],
   "source": [
    "import ee\n",
    "import geemap\n",
    "import logging\n",
    "import multiprocessing\n",
    "import os\n",
    "import requests\n",
    "import shutil\n",
    "from retry import retry\n",
    "geemap.set_proxy(port=4780)\n",
    "Map = geemap.Map(center=(30, 115), zoom=8)"
   ]
  },
  {
   "cell_type": "markdown",
   "metadata": {},
   "source": [
    "ESRI_water为label,S2为影像值,params中的值对分层采样也对生成图片等多个函数调用"
   ]
  },
  {
   "cell_type": "code",
   "execution_count": null,
   "metadata": {},
   "outputs": [],
   "source": [
    "region = ee.FeatureCollection(\"users/yamiletsharon250/wuhan\").geometry()\n",
    "ESRI_water = ee.ImageCollection(\"projects/sat-io/open-datasets/landcover/ESRI_Global-LULC_10m\").mean().eq(1).selfMask().clip(region)\n",
    "S2 = ee.ImageCollection('COPERNICUS/S2_SR').filterBounds(region).filterDate('2020', '2021').select( 'B8','B4', 'B3').median().visualize(min=0, max=4000).clip(region)                                                                                                                             \n",
    "params = {\n",
    "    'count': 100,  # How many image chips to export\n",
    "    'buffer': 2560,  # The buffer distance (m) around each point\n",
    "    'scale': 100,  # The scale to do stratified sampling\n",
    "    'seed': 1,  # A randomization seed to use for subsampling.\n",
    "    'dimensions': '256x256',  # The dimension of each image chip\n",
    "    'format': \"png\",  # The output image format, can be png, jpg, ZIPPED_GEO_TIFF, GEO_TIFF, NPY\n",
    "    'prefix': 'tile_',  # The filename prefix\n",
    "    'processes': 25,  # How many processes to used for parallel processing\n",
    "    'label_out_dir': '/label',  # The label output directory. Default to the current working directly\n",
    "    'val_out_dir': '/val', # The val output directory. Default to the current working directly\n",
    "}\n",
    "def getSamples():\n",
    "    img = ESRI_water\n",
    "    points = img.stratifiedSample(\n",
    "        numPoints=params['count'],\n",
    "        region=region,\n",
    "        scale=params['scale'],\n",
    "        seed=params['seed'],\n",
    "        geometries=True,\n",
    "    )\n",
    "    Map.data = points\n",
    "    return points.aggregate_array('.geo').getInfo()\n",
    "\n",
    "viz = {min: 1,max: 1,'opacity':1,'palette':['blue']}\n",
    "Map.addLayer(S2, {}, \"landasat\")\n",
    "Map.addLayer(ESRI_water, viz, \"ESRI_water\")\n",
    "Map.addLayer(region, {}, \"ROI\",False)\n",
    "Map"
   ]
  },
  {
   "cell_type": "markdown",
   "metadata": {},
   "source": [
    "因为jupyter不支持对进程调用，这步的目的是保存一个py文件方便调用"
   ]
  },
  {
   "cell_type": "code",
   "execution_count": null,
   "metadata": {},
   "outputs": [],
   "source": [
    "%%writefile test.py\n",
    "import ee\n",
    "import geemap\n",
    "import os\n",
    "import requests\n",
    "import shutil\n",
    "from retry import retry\n",
    "geemap.set_proxy(port=4780)\n",
    "ee.Initialize(opt_url='https://earthengine-highvolume.googleapis.com')\n",
    "region = ee.FeatureCollection(\"users/yamiletsharon250/wuhan\").geometry()\n",
    "ESRI_water = ee.ImageCollection(\"projects/sat-io/open-datasets/landcover/ESRI_Global-LULC_10m\").mean().eq(1).selfMask().clip(region)\n",
    "S2 = ee.ImageCollection('COPERNICUS/S2_SR').filterBounds(region).filterDate('2020', '2021').select( 'B8','B4', 'B3').median().visualize(min=0, max=4000).clip(region)             \n",
    "params = {\n",
    "    'count': 100,  # How many image chips to export\n",
    "    'buffer': 2560,  # The buffer distance (m) around each point\n",
    "    'scale': 100,  # The scale to do stratified sampling\n",
    "    'seed': 1,  # A randomization seed to use for subsampling.\n",
    "    'dimensions': '256x256',  # The dimension of each image chip\n",
    "    'format': \"png\",  # The output image format, can be png, jpg, ZIPPED_GEO_TIFF, GEO_TIFF, NPY\n",
    "    'prefix': 'tile_',  # The filename prefix\n",
    "    'processes': 25,  # How many processes to used for parallel processing\n",
    "    'label_out_dir': '/label',  # The output directory. Default to the current working directly\n",
    "    'val_out_dir': '/val',\n",
    "}\n",
    "@retry(tries=10, delay=1, backoff=2)\n",
    "def getLabelResult(index, point):\n",
    "    point = ee.Geometry.Point(point['coordinates'])\n",
    "    region = point.buffer(params['buffer']).bounds()\n",
    "\n",
    "    if params['format'] in ['png', 'jpg']:\n",
    "        url = ESRI_water.getThumbURL(\n",
    "            {\n",
    "                'region': region,\n",
    "                'dimensions': params['dimensions'],\n",
    "                'format': params['format'],\n",
    "            }\n",
    "        )\n",
    "    else:\n",
    "        url = ESRI_water.getDownloadURL(\n",
    "            {\n",
    "                'region': region,\n",
    "                'dimensions': params['dimensions'],\n",
    "                'format': params['format'],\n",
    "            }\n",
    "        )\n",
    "\n",
    "    if params['format'] == \"GEO_TIFF\":\n",
    "        ext = 'tif'\n",
    "    else:\n",
    "        ext = params['format']\n",
    "\n",
    "    r = requests.get(url, stream=True)\n",
    "    if r.status_code != 200:\n",
    "        r.raise_for_status()\n",
    "    out_dir = os.path.abspath(params['label_out_dir'])\n",
    "    basename = str(index).zfill(len(str(params['count'])))\n",
    "    filename = f\"{out_dir}/{params['prefix']}{basename}.{ext}\"\n",
    "    with open(filename, 'wb') as out_file:\n",
    "        shutil.copyfileobj(r.raw, out_file)\n",
    "    print(\"Done: \", basename)\n",
    "    \n",
    "@retry(tries=10, delay=1, backoff=2)\n",
    "def getValResult(index, point):\n",
    "    point = ee.Geometry.Point(point['coordinates'])\n",
    "    region = point.buffer(params['buffer']).bounds()\n",
    "\n",
    "    if params['format'] in ['png', 'jpg']:\n",
    "        url = S2.getThumbURL(\n",
    "            {\n",
    "                'region': region,\n",
    "                'dimensions': params['dimensions'],\n",
    "                'format': params['format'],\n",
    "            }\n",
    "        )\n",
    "    else:\n",
    "        url = S2.getDownloadURL(\n",
    "            {\n",
    "                'region': region,\n",
    "                'dimensions': params['dimensions'],\n",
    "                'format': params['format'],\n",
    "            }\n",
    "        )\n",
    "\n",
    "    if params['format'] == \"GEO_TIFF\":\n",
    "        ext = 'tif'\n",
    "    else:\n",
    "        ext = params['format']\n",
    "\n",
    "    r = requests.get(url, stream=True)\n",
    "    if r.status_code != 200:\n",
    "        r.raise_for_status()\n",
    "    out_dir = os.path.abspath(params['val_out_dir'])\n",
    "    basename = str(index).zfill(len(str(params['count'])))\n",
    "    filename = f\"{out_dir}/{params['prefix']}{basename}.{ext}\"\n",
    "    with open(filename, 'wb') as out_file:\n",
    "        shutil.copyfileobj(r.raw, out_file)\n",
    "    print(\"Done: \", basename)"
   ]
  },
  {
   "cell_type": "markdown",
   "metadata": {},
   "source": [
    "多进程运行保存的test.py"
   ]
  },
  {
   "cell_type": "code",
   "execution_count": null,
   "metadata": {},
   "outputs": [],
   "source": [
    "import test\n",
    "logging.basicConfig()\n",
    "items = getSamples()\n",
    "pool = multiprocessing.Pool(params['processes'])\n",
    "pool.starmap(test.getLabelResult, enumerate(items))\n",
    "pool.starmap(test.getValResult, enumerate(items))\n",
    "pool.close()\n",
    "Map.addLayer(Map.data, {}, \"Sample points\")"
   ]
  }
 ],
 "metadata": {
  "kernelspec": {
   "display_name": "Python 3.8.13 ('geemap')",
   "language": "python",
   "name": "python3"
  },
  "language_info": {
   "codemirror_mode": {
    "name": "ipython",
    "version": 3
   },
   "file_extension": ".py",
   "mimetype": "text/x-python",
   "name": "python",
   "nbconvert_exporter": "python",
   "pygments_lexer": "ipython3",
   "version": "3.8.13"
  },
  "orig_nbformat": 4,
  "vscode": {
   "interpreter": {
    "hash": "4a860719dd1f9b140713c0900992a4e3a702812e36d6d1efbb6e4981c621e303"
   }
  }
 },
 "nbformat": 4,
 "nbformat_minor": 2
}
