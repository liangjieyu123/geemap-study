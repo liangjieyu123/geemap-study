{
 "cells": [
  {
   "cell_type": "markdown",
   "metadata": {},
   "source": [
    "该笔记本记载了gee上通过样本点获取训练数据-训练回归模型-云端调用-回归显示的全流程"
   ]
  },
  {
   "cell_type": "code",
   "execution_count": 1,
   "metadata": {},
   "outputs": [],
   "source": [
    "import ee\n",
    "import geemap\n",
    "import pandas as pd\n",
    "from geemap import ml\n",
    "from sklearn import ensemble\n",
    "geemap.set_proxy(port=4780)\n",
    "Map = geemap.Map(center=(30, 120), zoom=4)"
   ]
  },
  {
   "cell_type": "markdown",
   "metadata": {},
   "source": [
    "合成的土地利用poi点和边界导入"
   ]
  },
  {
   "cell_type": "code",
   "execution_count": 2,
   "metadata": {},
   "outputs": [
    {
     "data": {
      "application/vnd.jupyter.widget-view+json": {
       "model_id": "c6590134ccf54bfb8f077051b92a233f",
       "version_major": 2,
       "version_minor": 0
      },
      "text/plain": [
       "Map(center=[30, 120], controls=(WidgetControl(options=['position', 'transparent_bg'], widget=HBox(children=(To…"
      ]
     },
     "metadata": {},
     "output_type": "display_data"
    }
   ],
   "source": [
    "points = ee.FeatureCollection('projects/assimov/assets/wuhanpoi')\n",
    "ROI = ee.FeatureCollection(\"users/yamiletsharon250/wuhan\").geometry()\n",
    "Map.addLayer(ROI, {}, \"武汉\")\n",
    "Map.addLayer(points, {}, \"武汉点\")\n",
    "Map"
   ]
  },
  {
   "cell_type": "markdown",
   "metadata": {},
   "source": [
    "常规的去云以及波段合成操作"
   ]
  },
  {
   "cell_type": "code",
   "execution_count": 3,
   "metadata": {},
   "outputs": [],
   "source": [
    "def rmL8Cloud(image):\n",
    "   cloudShadowBitMask = (1 << 3); \n",
    "   cloudsBitMask = (1 << 5); \n",
    "   qa = image.select('pixel_qa'); \n",
    "   mask = qa.bitwiseAnd(cloudShadowBitMask).eq(0).And(qa.bitwiseAnd(cloudsBitMask).eq(0)); \n",
    "   return image.updateMask(mask).toFloat().divide(10000).copyProperties(image).copyProperties(image, [\"system:time_start\",'system:time_end','system:footprint'])\n",
    "\n",
    "collection = ee.ImageCollection(\"LANDSAT/LC08/C01/T1_SR\") \\\n",
    "                  .map(rmL8Cloud)\\\n",
    "                  .filterDate('2021-01-01','2022-01-01') \\\n",
    "                  .filterBounds(ROI) \\\n",
    "                  .filter(ee.Filter.lte('CLOUD_COVER',5))\\\n",
    "                  \n",
    "image=collection.mean().clip(ROI)\n",
    "def NDWI(img):\n",
    "  nir = img.select('B4')\n",
    "  green = img.select('B2')\n",
    "  ndwi = img.expression(\n",
    "    '(B3-B5)/(B3+B5)',\n",
    "    {\n",
    "      'B5':nir,\n",
    "      'B3':green\n",
    "    })\n",
    "  return ndwi\n",
    "\n",
    "def EWI(img):\n",
    "  swir1 = img.select('B6')\n",
    "  nir = img.select('B5')\n",
    "  green = img.select('B3')\n",
    "  ewi = img.expression(\n",
    "    '(B3-B5-B6)/(B3+B5+B6)',\n",
    "    {\n",
    "      'B6':swir1,\n",
    "      'B5':nir,\n",
    "      'B3':green\n",
    "    })\n",
    "  return ewi\n",
    "\n",
    "MNDWI = image.normalizedDifference(['B3', 'B6']).rename('MNDWI');#计算MNDWI\n",
    "ndbi = image.normalizedDifference(['B6', 'B5']).rename('NDBI');#计算NDBI\n",
    "ndvi = image.normalizedDifference(['B5', 'B4']).rename('NDVI');#计算NDVI\n",
    "ewi = EWI(image).rename('EWI');#计算NDVI\n",
    "ndwi = NDWI(image).rename('NDWI');#计算MNDWI\n",
    "lswi = image.normalizedDifference(['B5','B6']).rename('LSWI')\n",
    "nbr2 = image.normalizedDifference([\"B6\", \"B7\"]).rename(\"NBR2\")\n",
    "awei = image.expression(\n",
    "              '4*(green-SWIR1)-(0.25*NIR+2.75*SWIR2)',{\n",
    "              'green':image.select('B3'),\n",
    "              'NIR':image.select('B5'),\n",
    "              'SWIR1':image.select('B6'),\n",
    "              'SWIR2':image.select('B7'),\n",
    "            }).float().rename('AWEI')\n",
    "image=image \\\n",
    "      .addBands(ndvi) \\\n",
    "      .addBands(ndbi) \\\n",
    "      .addBands(MNDWI) \\\n",
    "      .addBands(ndwi) \\\n",
    "      .addBands(ewi) \\\n",
    "      .addBands(lswi) \\\n",
    "      .addBands(awei) \\\n",
    "      .addBands(nbr2)"
   ]
  },
  {
   "cell_type": "markdown",
   "metadata": {},
   "source": [
    "设置训练波段，导出训练数据至本地"
   ]
  },
  {
   "cell_type": "code",
   "execution_count": 6,
   "metadata": {},
   "outputs": [],
   "source": [
    "bands = ['B2', 'B3', 'B4', 'B5', 'B6', 'B7','MNDWI','NDBI','NDVI','EWI','NDWI','AWEI','LSWI',\"NBR2\"]\n",
    "training = image.select(bands).sampleRegions(**{\n",
    "  'collection': points,\n",
    "  'properties': ['landcover'],\n",
    "  'scale': 30\n",
    "})\n",
    "geemap.ee_to_csv(training,\"rftrain.csv\")"
   ]
  },
  {
   "cell_type": "markdown",
   "metadata": {},
   "source": [
    "可视化dataframe"
   ]
  },
  {
   "cell_type": "code",
   "execution_count": 5,
   "metadata": {},
   "outputs": [
    {
     "data": {
      "text/html": [
       "<div>\n",
       "<style scoped>\n",
       "    .dataframe tbody tr th:only-of-type {\n",
       "        vertical-align: middle;\n",
       "    }\n",
       "\n",
       "    .dataframe tbody tr th {\n",
       "        vertical-align: top;\n",
       "    }\n",
       "\n",
       "    .dataframe thead th {\n",
       "        text-align: right;\n",
       "    }\n",
       "</style>\n",
       "<table border=\"1\" class=\"dataframe\">\n",
       "  <thead>\n",
       "    <tr style=\"text-align: right;\">\n",
       "      <th></th>\n",
       "      <th>system:index</th>\n",
       "      <th>landcover</th>\n",
       "      <th>AWEI</th>\n",
       "      <th>NDWI</th>\n",
       "      <th>NDVI</th>\n",
       "      <th>B2</th>\n",
       "      <th>NBR2</th>\n",
       "      <th>B3</th>\n",
       "      <th>B4</th>\n",
       "      <th>B5</th>\n",
       "      <th>B6</th>\n",
       "      <th>MNDWI</th>\n",
       "      <th>B7</th>\n",
       "      <th>EWI</th>\n",
       "      <th>NDBI</th>\n",
       "      <th>LSWI</th>\n",
       "    </tr>\n",
       "  </thead>\n",
       "  <tbody>\n",
       "    <tr>\n",
       "      <th>0</th>\n",
       "      <td>00000000000000000087_0</td>\n",
       "      <td>1</td>\n",
       "      <td>0.400050</td>\n",
       "      <td>-0.222047</td>\n",
       "      <td>-0.578305</td>\n",
       "      <td>0.0741</td>\n",
       "      <td>0.229167</td>\n",
       "      <td>0.1104</td>\n",
       "      <td>0.1164</td>\n",
       "      <td>0.0311</td>\n",
       "      <td>0.0059</td>\n",
       "      <td>0.898538</td>\n",
       "      <td>0.0037</td>\n",
       "      <td>0.497965</td>\n",
       "      <td>-0.681081</td>\n",
       "      <td>0.681081</td>\n",
       "    </tr>\n",
       "    <tr>\n",
       "      <th>1</th>\n",
       "      <td>00000000000000000087_1</td>\n",
       "      <td>1</td>\n",
       "      <td>0.402425</td>\n",
       "      <td>-0.223677</td>\n",
       "      <td>-0.572005</td>\n",
       "      <td>0.0741</td>\n",
       "      <td>0.239130</td>\n",
       "      <td>0.1107</td>\n",
       "      <td>0.1168</td>\n",
       "      <td>0.0318</td>\n",
       "      <td>0.0057</td>\n",
       "      <td>0.902062</td>\n",
       "      <td>0.0035</td>\n",
       "      <td>0.493927</td>\n",
       "      <td>-0.696000</td>\n",
       "      <td>0.696000</td>\n",
       "    </tr>\n",
       "    <tr>\n",
       "      <th>2</th>\n",
       "      <td>00000000000000000087_2</td>\n",
       "      <td>1</td>\n",
       "      <td>0.402250</td>\n",
       "      <td>-0.229963</td>\n",
       "      <td>-0.589709</td>\n",
       "      <td>0.0735</td>\n",
       "      <td>0.212766</td>\n",
       "      <td>0.1107</td>\n",
       "      <td>0.1174</td>\n",
       "      <td>0.0303</td>\n",
       "      <td>0.0057</td>\n",
       "      <td>0.902062</td>\n",
       "      <td>0.0037</td>\n",
       "      <td>0.509202</td>\n",
       "      <td>-0.683333</td>\n",
       "      <td>0.683333</td>\n",
       "    </tr>\n",
       "    <tr>\n",
       "      <th>3</th>\n",
       "      <td>00000000000000000087_3</td>\n",
       "      <td>1</td>\n",
       "      <td>0.406175</td>\n",
       "      <td>-0.231491</td>\n",
       "      <td>-0.592717</td>\n",
       "      <td>0.0737</td>\n",
       "      <td>0.258427</td>\n",
       "      <td>0.1113</td>\n",
       "      <td>0.1181</td>\n",
       "      <td>0.0302</td>\n",
       "      <td>0.0056</td>\n",
       "      <td>0.904192</td>\n",
       "      <td>0.0033</td>\n",
       "      <td>0.513256</td>\n",
       "      <td>-0.687151</td>\n",
       "      <td>0.687151</td>\n",
       "    </tr>\n",
       "    <tr>\n",
       "      <th>4</th>\n",
       "      <td>00000000000000000087_4</td>\n",
       "      <td>1</td>\n",
       "      <td>0.405400</td>\n",
       "      <td>-0.227723</td>\n",
       "      <td>-0.592968</td>\n",
       "      <td>0.0741</td>\n",
       "      <td>0.266667</td>\n",
       "      <td>0.1112</td>\n",
       "      <td>0.1178</td>\n",
       "      <td>0.0301</td>\n",
       "      <td>0.0057</td>\n",
       "      <td>0.902481</td>\n",
       "      <td>0.0033</td>\n",
       "      <td>0.512925</td>\n",
       "      <td>-0.681564</td>\n",
       "      <td>0.681564</td>\n",
       "    </tr>\n",
       "    <tr>\n",
       "      <th>...</th>\n",
       "      <td>...</td>\n",
       "      <td>...</td>\n",
       "      <td>...</td>\n",
       "      <td>...</td>\n",
       "      <td>...</td>\n",
       "      <td>...</td>\n",
       "      <td>...</td>\n",
       "      <td>...</td>\n",
       "      <td>...</td>\n",
       "      <td>...</td>\n",
       "      <td>...</td>\n",
       "      <td>...</td>\n",
       "      <td>...</td>\n",
       "      <td>...</td>\n",
       "      <td>...</td>\n",
       "      <td>...</td>\n",
       "    </tr>\n",
       "    <tr>\n",
       "      <th>3587</th>\n",
       "      <td>00000000000000000588_0</td>\n",
       "      <td>5</td>\n",
       "      <td>-0.991900</td>\n",
       "      <td>-0.152518</td>\n",
       "      <td>0.539523</td>\n",
       "      <td>0.0589</td>\n",
       "      <td>0.226929</td>\n",
       "      <td>0.0822</td>\n",
       "      <td>0.0801</td>\n",
       "      <td>0.2678</td>\n",
       "      <td>0.2187</td>\n",
       "      <td>-0.453639</td>\n",
       "      <td>0.1378</td>\n",
       "      <td>-0.710920</td>\n",
       "      <td>-0.100925</td>\n",
       "      <td>0.100925</td>\n",
       "    </tr>\n",
       "    <tr>\n",
       "      <th>3588</th>\n",
       "      <td>0000000000000000058a_0</td>\n",
       "      <td>5</td>\n",
       "      <td>-1.202575</td>\n",
       "      <td>-0.170856</td>\n",
       "      <td>0.124947</td>\n",
       "      <td>0.1468</td>\n",
       "      <td>0.052651</td>\n",
       "      <td>0.1869</td>\n",
       "      <td>0.2073</td>\n",
       "      <td>0.2665</td>\n",
       "      <td>0.2909</td>\n",
       "      <td>-0.217664</td>\n",
       "      <td>0.2618</td>\n",
       "      <td>-0.497783</td>\n",
       "      <td>0.043775</td>\n",
       "      <td>-0.043775</td>\n",
       "    </tr>\n",
       "    <tr>\n",
       "      <th>3589</th>\n",
       "      <td>0000000000000000058a_1</td>\n",
       "      <td>5</td>\n",
       "      <td>-1.201125</td>\n",
       "      <td>-0.174100</td>\n",
       "      <td>0.112510</td>\n",
       "      <td>0.1537</td>\n",
       "      <td>0.048530</td>\n",
       "      <td>0.1975</td>\n",
       "      <td>0.2185</td>\n",
       "      <td>0.2739</td>\n",
       "      <td>0.2960</td>\n",
       "      <td>-0.199595</td>\n",
       "      <td>0.2686</td>\n",
       "      <td>-0.485275</td>\n",
       "      <td>0.038779</td>\n",
       "      <td>-0.038779</td>\n",
       "    </tr>\n",
       "    <tr>\n",
       "      <th>3590</th>\n",
       "      <td>0000000000000000058d_0</td>\n",
       "      <td>5</td>\n",
       "      <td>-0.970475</td>\n",
       "      <td>-0.211885</td>\n",
       "      <td>0.165001</td>\n",
       "      <td>0.1114</td>\n",
       "      <td>0.084607</td>\n",
       "      <td>0.1481</td>\n",
       "      <td>0.1713</td>\n",
       "      <td>0.2390</td>\n",
       "      <td>0.2378</td>\n",
       "      <td>-0.232444</td>\n",
       "      <td>0.2007</td>\n",
       "      <td>-0.526004</td>\n",
       "      <td>-0.002517</td>\n",
       "      <td>0.002517</td>\n",
       "    </tr>\n",
       "    <tr>\n",
       "      <th>3591</th>\n",
       "      <td>0000000000000000058d_1</td>\n",
       "      <td>5</td>\n",
       "      <td>-1.158500</td>\n",
       "      <td>-0.179894</td>\n",
       "      <td>0.160075</td>\n",
       "      <td>0.1240</td>\n",
       "      <td>0.065428</td>\n",
       "      <td>0.1578</td>\n",
       "      <td>0.1784</td>\n",
       "      <td>0.2464</td>\n",
       "      <td>0.2695</td>\n",
       "      <td>-0.261409</td>\n",
       "      <td>0.2364</td>\n",
       "      <td>-0.531542</td>\n",
       "      <td>0.044776</td>\n",
       "      <td>-0.044776</td>\n",
       "    </tr>\n",
       "  </tbody>\n",
       "</table>\n",
       "<p>3592 rows × 16 columns</p>\n",
       "</div>"
      ],
      "text/plain": [
       "                system:index  landcover      AWEI      NDWI      NDVI      B2  \\\n",
       "0     00000000000000000087_0          1  0.400050 -0.222047 -0.578305  0.0741   \n",
       "1     00000000000000000087_1          1  0.402425 -0.223677 -0.572005  0.0741   \n",
       "2     00000000000000000087_2          1  0.402250 -0.229963 -0.589709  0.0735   \n",
       "3     00000000000000000087_3          1  0.406175 -0.231491 -0.592717  0.0737   \n",
       "4     00000000000000000087_4          1  0.405400 -0.227723 -0.592968  0.0741   \n",
       "...                      ...        ...       ...       ...       ...     ...   \n",
       "3587  00000000000000000588_0          5 -0.991900 -0.152518  0.539523  0.0589   \n",
       "3588  0000000000000000058a_0          5 -1.202575 -0.170856  0.124947  0.1468   \n",
       "3589  0000000000000000058a_1          5 -1.201125 -0.174100  0.112510  0.1537   \n",
       "3590  0000000000000000058d_0          5 -0.970475 -0.211885  0.165001  0.1114   \n",
       "3591  0000000000000000058d_1          5 -1.158500 -0.179894  0.160075  0.1240   \n",
       "\n",
       "          NBR2      B3      B4      B5      B6     MNDWI      B7       EWI  \\\n",
       "0     0.229167  0.1104  0.1164  0.0311  0.0059  0.898538  0.0037  0.497965   \n",
       "1     0.239130  0.1107  0.1168  0.0318  0.0057  0.902062  0.0035  0.493927   \n",
       "2     0.212766  0.1107  0.1174  0.0303  0.0057  0.902062  0.0037  0.509202   \n",
       "3     0.258427  0.1113  0.1181  0.0302  0.0056  0.904192  0.0033  0.513256   \n",
       "4     0.266667  0.1112  0.1178  0.0301  0.0057  0.902481  0.0033  0.512925   \n",
       "...        ...     ...     ...     ...     ...       ...     ...       ...   \n",
       "3587  0.226929  0.0822  0.0801  0.2678  0.2187 -0.453639  0.1378 -0.710920   \n",
       "3588  0.052651  0.1869  0.2073  0.2665  0.2909 -0.217664  0.2618 -0.497783   \n",
       "3589  0.048530  0.1975  0.2185  0.2739  0.2960 -0.199595  0.2686 -0.485275   \n",
       "3590  0.084607  0.1481  0.1713  0.2390  0.2378 -0.232444  0.2007 -0.526004   \n",
       "3591  0.065428  0.1578  0.1784  0.2464  0.2695 -0.261409  0.2364 -0.531542   \n",
       "\n",
       "          NDBI      LSWI  \n",
       "0    -0.681081  0.681081  \n",
       "1    -0.696000  0.696000  \n",
       "2    -0.683333  0.683333  \n",
       "3    -0.687151  0.687151  \n",
       "4    -0.681564  0.681564  \n",
       "...        ...       ...  \n",
       "3587 -0.100925  0.100925  \n",
       "3588  0.043775 -0.043775  \n",
       "3589  0.038779 -0.038779  \n",
       "3590 -0.002517  0.002517  \n",
       "3591  0.044776 -0.044776  \n",
       "\n",
       "[3592 rows x 16 columns]"
      ]
     },
     "execution_count": 5,
     "metadata": {},
     "output_type": "execute_result"
    }
   ],
   "source": [
    "df = pd.read_csv(\"rftrain.csv\")\n",
    "df"
   ]
  },
  {
   "cell_type": "markdown",
   "metadata": {},
   "source": [
    "随机森林回归训练n_trees为参数，还有其他参数可以调，我只是简单打个样"
   ]
  },
  {
   "cell_type": "code",
   "execution_count": 6,
   "metadata": {},
   "outputs": [],
   "source": [
    "feature_names = ['AWEI','NDWI','NDVI','B2','NBR2','B3','B4','B5','B6','MNDWI','B7','EWI','NDBI','LSWI']\n",
    "label = \"landcover\"\n",
    "X = df[feature_names]\n",
    "y = df[label]\n",
    "n_trees = 10\n",
    "rf = ensemble.RandomForestRegressor(n_trees).fit(X, y)\n",
    "rf"
   ]
  },
  {
   "cell_type": "markdown",
   "metadata": {},
   "source": [
    "将rf模型转为trees"
   ]
  },
  {
   "cell_type": "code",
   "execution_count": 9,
   "metadata": {},
   "outputs": [],
   "source": [
    "trees = ml.rf_to_strings(rf, feature_names,output_mode='REGRESSION')"
   ]
  },
  {
   "cell_type": "markdown",
   "metadata": {},
   "source": [
    "trees转classifier"
   ]
  },
  {
   "cell_type": "code",
   "execution_count": 11,
   "metadata": {},
   "outputs": [],
   "source": [
    "ee_classifier = ml.strings_to_classifier(trees)\n",
    "#ee_classifier.getInfo()"
   ]
  },
  {
   "cell_type": "markdown",
   "metadata": {},
   "source": [
    "将模型保存到本地"
   ]
  },
  {
   "cell_type": "code",
   "execution_count": 4,
   "metadata": {},
   "outputs": [],
   "source": [
    "ml.trees_to_csv(trees, \"trees.csv\")\n",
    "ee_classifierlocal =ml.csv_to_classifier(\"trees.csv\")\n",
    "#ee_classifierlocal.getInfo()"
   ]
  },
  {
   "cell_type": "markdown",
   "metadata": {},
   "source": [
    "将模型保存到云端，可能得等会，因为保存要时间，上传有限制不能超过40m"
   ]
  },
  {
   "cell_type": "code",
   "execution_count": 13,
   "metadata": {},
   "outputs": [],
   "source": [
    "ml.export_trees_to_fc(trees, 'users/yamiletsharon250/rfregression')"
   ]
  },
  {
   "cell_type": "code",
   "execution_count": null,
   "metadata": {},
   "outputs": [],
   "source": [
    "rf_fc = ee.FeatureCollection('users/yamiletsharon250/rfregression')\n",
    "ee_classifiercloud = ml.fc_to_classifier(rf_fc)\n",
    "#ee_classifiercloud.getInfo()"
   ]
  },
  {
   "cell_type": "markdown",
   "metadata": {},
   "source": [
    "回归模型验证，使用的是local模型，cloud模型在js端验证"
   ]
  },
  {
   "cell_type": "code",
   "execution_count": 7,
   "metadata": {},
   "outputs": [],
   "source": [
    "regression = image.select(bands).classify(ee_classifierlocal, 'predicted')"
   ]
  },
  {
   "cell_type": "code",
   "execution_count": 8,
   "metadata": {},
   "outputs": [],
   "source": [
    "regressionMin = (regression.reduceRegion(\n",
    "    **{\n",
    "'reducer': ee.Reducer.min(),\n",
    "'scale': 30,\n",
    "'crs': 'EPSG:3857',\n",
    "'bestEffort': True,\n",
    "'tileScale': 16\n",
    "}\n",
    "))\n",
    "regressionMax = (regression.reduceRegion(\n",
    "    **{\n",
    "'reducer': ee.Reducer.max(),\n",
    "'scale': 30,\n",
    "'crs': 'EPSG:3857',\n",
    "'bestEffort': True,\n",
    "'tileScale': 16\n",
    "}\n",
    "))"
   ]
  },
  {
   "cell_type": "code",
   "execution_count": 18,
   "metadata": {},
   "outputs": [
    {
     "data": {
      "text/plain": [
       "1"
      ]
     },
     "execution_count": 18,
     "metadata": {},
     "output_type": "execute_result"
    }
   ],
   "source": [
    "\n",
    "# regressionMin.getNumber('predicted').getInfo()\n",
    "# regressionMax.getNumber('predicted').getInfo()"
   ]
  },
  {
   "cell_type": "code",
   "execution_count": 10,
   "metadata": {},
   "outputs": [
    {
     "data": {
      "application/vnd.jupyter.widget-view+json": {
       "model_id": "c6590134ccf54bfb8f077051b92a233f",
       "version_major": 2,
       "version_minor": 0
      },
      "text/plain": [
       "Map(bottom=2097.0, center=[21.53484700204879, 119.00390625000001], controls=(WidgetControl(options=['position'…"
      ]
     },
     "metadata": {},
     "output_type": "display_data"
    }
   ],
   "source": [
    "viz = {min: 1,max: 5,'opacity':1,'palette':['blue','yellow','ffffff','red','green']}\n",
    "Map.addLayer(regression, viz, 'Regression')\n",
    "Map"
   ]
  }
 ],
 "metadata": {
  "kernelspec": {
   "display_name": "Python 3.9.12 ('gee')",
   "language": "python",
   "name": "python3"
  },
  "language_info": {
   "codemirror_mode": {
    "name": "ipython",
    "version": 3
   },
   "file_extension": ".py",
   "mimetype": "text/x-python",
   "name": "python",
   "nbconvert_exporter": "python",
   "pygments_lexer": "ipython3",
   "version": "3.9.12"
  },
  "orig_nbformat": 4,
  "vscode": {
   "interpreter": {
    "hash": "5d51a8884af55115bb6d844298b2a4bf9c86da95dd33d0236e0d8eb5aff4e382"
   }
  }
 },
 "nbformat": 4,
 "nbformat_minor": 2
}
